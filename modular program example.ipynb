{
 "cells": [
  {
   "cell_type": "code",
   "execution_count": 2,
   "metadata": {},
   "outputs": [
    {
     "name": "stdin",
     "output_type": "stream",
     "text": [
      "Enter a number between 1 and 100  4\n",
      "Enter a number between 1 and 100  5\n",
      "Enter a number between 1 and 100  6\n",
      "Enter a number between 1 and 100  7\n",
      "Enter a number between 1 and 100  8\n",
      "Enter a number between 1 and 100  7\n",
      "Enter a number between 1 and 100  6\n"
     ]
    },
    {
     "name": "stdout",
     "output_type": "stream",
     "text": [
      "Here are your numbers\n",
      "4 5 6 7 8 7 6 \n",
      "The average is 6.1\n",
      "There are 4 numbers below average\n"
     ]
    }
   ],
   "source": [
    "# take in and store 7 numbers between 1 and 100\n",
    "# find the average of the numbers\n",
    "# find how many are below average\n",
    "# display the numbers, the average and the number below average\n",
    "\n",
    "def GetValidNumber(min, max):  # two parameters passed\n",
    "    numberOK = False  \n",
    "    while not numberOK:  \n",
    "        num = int(input(f'Enter a number between {min} and {max} '))  \n",
    "        if num >= min and num <= max:  \n",
    "            numberOK = True  \n",
    "        else:  \n",
    "            print ('That was not valid')  \n",
    "    return num \n",
    "    \n",
    "def GetNumbers():\n",
    "    numbers = []\n",
    "    for counter in range(7):\n",
    "        number = GetValidNumber(1,100)\n",
    "        numbers.append(number)\n",
    "    return numbers\n",
    "\n",
    "def FindAverage(numbers):\n",
    "    total = 0\n",
    "    for index in range(len(numbers)):\n",
    "        total = total + numbers[index]\n",
    "    average = round(total/len(numbers),1)\n",
    "    return average\n",
    "\n",
    "def BelowAverage(average,numbers):\n",
    "    below = 0\n",
    "    for index in range(len(numbers)):\n",
    "        if numbers[index] < average:\n",
    "            below += 1\n",
    "    return below\n",
    "\n",
    "def DisplayAnswer(numbers,average,below):\n",
    "    print('Here are your numbers')\n",
    "    for index in range(len(numbers)):\n",
    "        print(numbers[index], end=' ')\n",
    "    print(f'\\nThe average is {average}')\n",
    "    print(f'There are {below} numbers below average')\n",
    "    \n",
    "# main program\n",
    "numbers = GetNumbers()\n",
    "average = FindAverage(numbers)\n",
    "below = BelowAverage(average,numbers)\n",
    "DisplayAnswer(numbers,average,below)\n"
   ]
  },
  {
   "cell_type": "code",
   "execution_count": null,
   "metadata": {},
   "outputs": [],
   "source": []
  }
 ],
 "metadata": {
  "kernelspec": {
   "display_name": "Python 3",
   "language": "python",
   "name": "python3"
  },
  "language_info": {
   "codemirror_mode": {
    "name": "ipython",
    "version": 3
   },
   "file_extension": ".py",
   "mimetype": "text/x-python",
   "name": "python",
   "nbconvert_exporter": "python",
   "pygments_lexer": "ipython3",
   "version": "3.7.9"
  }
 },
 "nbformat": 4,
 "nbformat_minor": 4
}
