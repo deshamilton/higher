{
 "cells": [
  {
   "cell_type": "markdown",
   "metadata": {},
   "source": [
    "## Introduction to user-defined functions ##"
   ]
  },
  {
   "cell_type": "code",
   "execution_count": null,
   "metadata": {},
   "outputs": [],
   "source": [
    "# function definition\n",
    "def FindAverage(numList):\n",
    "    total = 0\n",
    "    for item in numList:\n",
    "        total = total + item\n",
    "        average = total / len(numList)\n",
    "    return average\n",
    "\n",
    "# main program\n",
    "myList = [23.6, 44.6, 57.3, 22.4, 17.9]\n",
    "average = FindAverage(myList)\n",
    "print(f'The average of your numbers is {round(average,1)}')"
   ]
  },
  {
   "cell_type": "code",
   "execution_count": null,
   "metadata": {},
   "outputs": [],
   "source": []
  },
  {
   "cell_type": "code",
   "execution_count": null,
   "metadata": {},
   "outputs": [],
   "source": [
    "# function definition\n",
    "def GetNumber(min, max):\n",
    "    numberOK = False\n",
    "    while not numberOK:\n",
    "        num = int(input(f'Enter a number between {min} and {max} '))\n",
    "        if num >= min and num <= max:\n",
    "            numberOK = True\n",
    "        else:\n",
    "            print ('That was not valid')\n",
    "    return num\n",
    "\n",
    "# main program\n",
    "number = GetNumber(1,5)\n",
    "print(f'Your number is {number}')"
   ]
  },
  {
   "cell_type": "markdown",
   "metadata": {},
   "source": [
    "**Input validation 1**"
   ]
  },
  {
   "cell_type": "code",
   "execution_count": null,
   "metadata": {},
   "outputs": [],
   "source": [
    "# function definition\n",
    "def GetValidNumber():\n",
    "    numberOK = False\n",
    "    while not numberOK:\n",
    "        num = int(input('Enter a positive number '))\n",
    "        if num >= 0:\n",
    "            numberOK = True\n",
    "        else:\n",
    "            print ('That was not valid')\n",
    "    return num\n",
    "\n",
    "# main program\n",
    "value = GetValidNumber()\n",
    "print(f'Your number is {value}')"
   ]
  },
  {
   "cell_type": "markdown",
   "metadata": {},
   "source": [
    "**Input validation 2**"
   ]
  },
  {
   "cell_type": "code",
   "execution_count": null,
   "metadata": {},
   "outputs": [],
   "source": [
    "# function definition\n",
    "def GetValidNumber(max):\n",
    "    numberOK = False\n",
    "    while not numberOK:\n",
    "        num = int(input(f'Enter a positve number up to {max} '))\n",
    "        if num >= 0 and num <= max:\n",
    "            numberOK = True\n",
    "        else:\n",
    "            print ('That was not valid')\n",
    "    return num\n",
    "\n",
    "# main program\n",
    "value= GetValidNumber(10)\n",
    "print(f'Your number is {value}')"
   ]
  },
  {
   "cell_type": "markdown",
   "metadata": {},
   "source": [
    "**Input validation 3**"
   ]
  },
  {
   "cell_type": "code",
   "execution_count": null,
   "metadata": {},
   "outputs": [],
   "source": []
  }
 ],
 "metadata": {
  "kernelspec": {
   "display_name": "Python 3",
   "language": "python",
   "name": "python3"
  },
  "language_info": {
   "codemirror_mode": {
    "name": "ipython",
    "version": 3
   },
   "file_extension": ".py",
   "mimetype": "text/x-python",
   "name": "python",
   "nbconvert_exporter": "python",
   "pygments_lexer": "ipython3",
   "version": "3.7.9"
  }
 },
 "nbformat": 4,
 "nbformat_minor": 4
}
